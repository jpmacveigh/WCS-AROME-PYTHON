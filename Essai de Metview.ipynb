{
 "cells": [
  {
   "cell_type": "code",
   "execution_count": 5,
   "metadata": {},
   "outputs": [
    {
     "name": "stdout",
     "output_type": "stream",
     "text": [
      "hello world!\n"
     ]
    }
   ],
   "source": [
    "import metview as mv\n",
    "print(mv.lowercase('Hello World!'))"
   ]
  },
  {
   "cell_type": "code",
   "execution_count": 9,
   "metadata": {},
   "outputs": [
    {
     "ename": "Exception",
     "evalue": "Metview error: Error calling Metview function",
     "output_type": "error",
     "traceback": [
      "\u001b[0;31m---------------------------------------------------------------------------\u001b[0m",
      "\u001b[0;31mException\u001b[0m                                 Traceback (most recent call last)",
      "\u001b[0;32m<ipython-input-9-9ff0e7970225>\u001b[0m in \u001b[0;36m<module>\u001b[0;34m\u001b[0m\n\u001b[0;32m----> 1\u001b[0;31m \u001b[0mg\u001b[0m \u001b[0;34m=\u001b[0m \u001b[0mmv\u001b[0m\u001b[0;34m.\u001b[0m\u001b[0mread\u001b[0m\u001b[0;34m(\u001b[0m\u001b[0;34m\"toto.grib2\"\u001b[0m\u001b[0;34m)\u001b[0m\u001b[0;34m\u001b[0m\u001b[0m\n\u001b[0m",
      "\u001b[0;32m/opt/conda/lib/python3.6/site-packages/metview/bindings.py\u001b[0m in \u001b[0;36mwrapped\u001b[0;34m(*args, **kwargs)\u001b[0m\n\u001b[1;32m    762\u001b[0m \u001b[0;34m\u001b[0m\u001b[0m\n\u001b[1;32m    763\u001b[0m         \u001b[0mval\u001b[0m \u001b[0;34m=\u001b[0m \u001b[0mlib\u001b[0m\u001b[0;34m.\u001b[0m\u001b[0mp_result_as_value\u001b[0m\u001b[0;34m(\u001b[0m\u001b[0;34m)\u001b[0m\u001b[0;34m\u001b[0m\u001b[0m\n\u001b[0;32m--> 764\u001b[0;31m         \u001b[0;32mreturn\u001b[0m \u001b[0mvalue_from_metview\u001b[0m\u001b[0;34m(\u001b[0m\u001b[0mval\u001b[0m\u001b[0;34m)\u001b[0m\u001b[0;34m\u001b[0m\u001b[0m\n\u001b[0m\u001b[1;32m    765\u001b[0m \u001b[0;34m\u001b[0m\u001b[0m\n\u001b[1;32m    766\u001b[0m     \u001b[0;32mreturn\u001b[0m \u001b[0mwrapped\u001b[0m\u001b[0;34m\u001b[0m\u001b[0m\n",
      "\u001b[0;32m/opt/conda/lib/python3.6/site-packages/metview/bindings.py\u001b[0m in \u001b[0;36mvalue_from_metview\u001b[0;34m(val)\u001b[0m\n\u001b[1;32m    727\u001b[0m     \u001b[0mretval\u001b[0m \u001b[0;34m=\u001b[0m \u001b[0mvr\u001b[0m\u001b[0;34m.\u001b[0m\u001b[0mtranslate_return_val\u001b[0m\u001b[0;34m(\u001b[0m\u001b[0mval\u001b[0m\u001b[0;34m)\u001b[0m\u001b[0;34m\u001b[0m\u001b[0m\n\u001b[1;32m    728\u001b[0m     \u001b[0;32mif\u001b[0m \u001b[0misinstance\u001b[0m\u001b[0;34m(\u001b[0m\u001b[0mretval\u001b[0m\u001b[0;34m,\u001b[0m \u001b[0mException\u001b[0m\u001b[0;34m)\u001b[0m\u001b[0;34m:\u001b[0m\u001b[0;34m\u001b[0m\u001b[0m\n\u001b[0;32m--> 729\u001b[0;31m         \u001b[0;32mraise\u001b[0m \u001b[0mretval\u001b[0m\u001b[0;34m\u001b[0m\u001b[0m\n\u001b[0m\u001b[1;32m    730\u001b[0m     \u001b[0;32mreturn\u001b[0m \u001b[0mretval\u001b[0m\u001b[0;34m\u001b[0m\u001b[0m\n\u001b[1;32m    731\u001b[0m \u001b[0;34m\u001b[0m\u001b[0m\n",
      "\u001b[0;31mException\u001b[0m: Metview error: Error calling Metview function"
     ]
    }
   ],
   "source": [
    "g = mv.read(\"toto.grib2\")"
   ]
  },
  {
   "cell_type": "code",
   "execution_count": 10,
   "metadata": {},
   "outputs": [
    {
     "ename": "Exception",
     "evalue": "Metview error: Error calling Metview function",
     "output_type": "error",
     "traceback": [
      "\u001b[0;31m---------------------------------------------------------------------------\u001b[0m",
      "\u001b[0;31mException\u001b[0m                                 Traceback (most recent call last)",
      "\u001b[0;32m<ipython-input-10-9ad323f0fcc1>\u001b[0m in \u001b[0;36m<module>\u001b[0;34m\u001b[0m\n\u001b[1;32m      2\u001b[0m \u001b[0;34m\u001b[0m\u001b[0m\n\u001b[1;32m      3\u001b[0m \u001b[0;31m# read the input grib file\u001b[0m\u001b[0;34m\u001b[0m\u001b[0;34m\u001b[0m\u001b[0m\n\u001b[0;32m----> 4\u001b[0;31m \u001b[0mmy_data\u001b[0m \u001b[0;34m=\u001b[0m \u001b[0mmv\u001b[0m\u001b[0;34m.\u001b[0m\u001b[0mread\u001b[0m\u001b[0;34m(\u001b[0m\u001b[0;34m\"toto.grib2\"\u001b[0m\u001b[0;34m)\u001b[0m\u001b[0;34m\u001b[0m\u001b[0m\n\u001b[0m\u001b[1;32m      5\u001b[0m \u001b[0;34m\u001b[0m\u001b[0m\n\u001b[1;32m      6\u001b[0m \u001b[0;31m# set up the geographical area\u001b[0m\u001b[0;34m\u001b[0m\u001b[0;34m\u001b[0m\u001b[0m\n",
      "\u001b[0;32m/opt/conda/lib/python3.6/site-packages/metview/bindings.py\u001b[0m in \u001b[0;36mwrapped\u001b[0;34m(*args, **kwargs)\u001b[0m\n\u001b[1;32m    762\u001b[0m \u001b[0;34m\u001b[0m\u001b[0m\n\u001b[1;32m    763\u001b[0m         \u001b[0mval\u001b[0m \u001b[0;34m=\u001b[0m \u001b[0mlib\u001b[0m\u001b[0;34m.\u001b[0m\u001b[0mp_result_as_value\u001b[0m\u001b[0;34m(\u001b[0m\u001b[0;34m)\u001b[0m\u001b[0;34m\u001b[0m\u001b[0m\n\u001b[0;32m--> 764\u001b[0;31m         \u001b[0;32mreturn\u001b[0m \u001b[0mvalue_from_metview\u001b[0m\u001b[0;34m(\u001b[0m\u001b[0mval\u001b[0m\u001b[0;34m)\u001b[0m\u001b[0;34m\u001b[0m\u001b[0m\n\u001b[0m\u001b[1;32m    765\u001b[0m \u001b[0;34m\u001b[0m\u001b[0m\n\u001b[1;32m    766\u001b[0m     \u001b[0;32mreturn\u001b[0m \u001b[0mwrapped\u001b[0m\u001b[0;34m\u001b[0m\u001b[0m\n",
      "\u001b[0;32m/opt/conda/lib/python3.6/site-packages/metview/bindings.py\u001b[0m in \u001b[0;36mvalue_from_metview\u001b[0;34m(val)\u001b[0m\n\u001b[1;32m    727\u001b[0m     \u001b[0mretval\u001b[0m \u001b[0;34m=\u001b[0m \u001b[0mvr\u001b[0m\u001b[0;34m.\u001b[0m\u001b[0mtranslate_return_val\u001b[0m\u001b[0;34m(\u001b[0m\u001b[0mval\u001b[0m\u001b[0;34m)\u001b[0m\u001b[0;34m\u001b[0m\u001b[0m\n\u001b[1;32m    728\u001b[0m     \u001b[0;32mif\u001b[0m \u001b[0misinstance\u001b[0m\u001b[0;34m(\u001b[0m\u001b[0mretval\u001b[0m\u001b[0;34m,\u001b[0m \u001b[0mException\u001b[0m\u001b[0;34m)\u001b[0m\u001b[0;34m:\u001b[0m\u001b[0;34m\u001b[0m\u001b[0m\n\u001b[0;32m--> 729\u001b[0;31m         \u001b[0;32mraise\u001b[0m \u001b[0mretval\u001b[0m\u001b[0;34m\u001b[0m\u001b[0m\n\u001b[0m\u001b[1;32m    730\u001b[0m     \u001b[0;32mreturn\u001b[0m \u001b[0mretval\u001b[0m\u001b[0;34m\u001b[0m\u001b[0m\n\u001b[1;32m    731\u001b[0m \u001b[0;34m\u001b[0m\u001b[0m\n",
      "\u001b[0;31mException\u001b[0m: Metview error: Error calling Metview function"
     ]
    }
   ],
   "source": [
    "import metview as mv\n",
    " \n",
    "# read the input grib file\n",
    "my_data = mv.read(\"toto.grib2\")\n",
    " \n",
    "# set up the geographical area\n",
    "my_view = mv.geoview(map_area_definition = \"CORNERS\",\n",
    "                  map_projection         = \"CYLINDRICAL\",\n",
    "                  area                   = [35,-15,70,35])\n",
    " \n",
    "# set up the coastlines\n",
    "my_coast = mv.mcoast(map_coastline_land_shade        = \"ON\",\n",
    "                     map_coastline_land_shade_colour = \"CREAM\")\n",
    " \n",
    "# set up the contour using an interval range\n",
    "my_contour = mv.mcont(contour_level_selection_type = \"INTERVAL\",\n",
    "                      contour_interval             = 2.00,\n",
    "                      contour_shade_method         = \"AREA_FILL\",\n",
    "                      contour_shade                = \"ON\",\n",
    "                      contour_shade_max_level      = 42.00,\n",
    "                      contour_shade_min_level      = -32.00,\n",
    "                      contour_highlight_thickness  = 5,\n",
    "                      contour_line_thickness       = 3,\n",
    "                      contour_label                = \"OFF\",\n",
    "                      contour_highlight_frequency  = 100,\n",
    "                      legend                       = \"ON\",\n",
    "                      contour_hilo                 = \"OFF\",\n",
    "                      contour                      = \"OFF\",\n",
    "                      contour_shade_colour_method  = \"LIST\",\n",
    "                      contour_shade_colour_list    = [\"rgb(0.3,0.3,0.3)\",\"rgb(0.4,0.4,0.4)\",\"rgb(0.5,0.5,0.5)\",  \"rgb(0.6,0.6,0.6)\",\"rgb(0.7,0.7,0.7)\",\n",
    "                                                      \"rgb(0.8,0.8,0.8)\",\"rgb(0.35,0,0.6)\", \"rgb(0.5,0,0.9)\",    \"rgb(0.6,0.2,1)\",  \"rgb(0.75,0.4,1)\",\n",
    "                                                      \"rgb(0.85,0.6,1)\", \"rgb(0,0,0.75)\",   \"rgb(0,0,1)\",        \"rgb(0.2,0.4,1)\",  \"rgb(0.4,0.7,1)\",\n",
    "                                                      \"rgb(0.6,0.9,1)\",  \"rgb(0,0.55,0.19)\",\"rgb(0.15,0.75,0.1)\",\"rgb(0.5,0.85,0)\", \"rgb(0.65,0.95,0)\",\n",
    "                                                      \"rgb(0.8,1,0.2)\",  \"rgb(0.65,0.65,0)\",\"rgb(0.8,0.8,0)\",    \"rgb(0.92,0.92,0)\",\"rgb(1,1,0)\",\n",
    "                                                      \"rgb(1,1,0.6)\",    \"rgb(0.85,0.45,0)\",\"rgb(1,0.5,0)\",      \"rgb(1,0.62,0)\",   \"rgb(1,0.74,0)\",\n",
    "                                                      \"rgb(1,0.85,0)\",   \"rgb(0.6,0,0)\",    \"rgb(0.8,0,0)\",      \"rgb(1,0,0)\",      \"rgb(1,0.4,0.4)\",\n",
    "                                                      \"rgb(1,0.6,0.6)\",  \"rgb(1,0.75,0.75)\"])\n",
    " \n",
    "# set-up the title\n",
    "my_title = mv.mtext(text_font_size     = 0.50,\n",
    "                    text_lines         = [\"<font size='0.7'>2m temperature (Range: -32 .. 42)</font>\",\n",
    "                                          \"<magics_title/>\",\n",
    "                                          \"\"],\n",
    "                    text_colour        = \"CHARCOAL\")\n",
    " \n",
    " \n",
    "# define the output plot file\n",
    "mv.setoutput(mv.pdf_output(output_name = 'contour9'))\n",
    " \n",
    "# plot the data onto the map\n",
    "mv.plot(my_view,my_coast,my_data,my_contour,my_title)"
   ]
  },
  {
   "cell_type": "code",
   "execution_count": null,
   "metadata": {},
   "outputs": [],
   "source": []
  }
 ],
 "metadata": {
  "kernelspec": {
   "display_name": "Python 3",
   "language": "python",
   "name": "python3"
  },
  "language_info": {
   "codemirror_mode": {
    "name": "ipython",
    "version": 3
   },
   "file_extension": ".py",
   "mimetype": "text/x-python",
   "name": "python",
   "nbconvert_exporter": "python",
   "pygments_lexer": "ipython3",
   "version": "3.6.5"
  }
 },
 "nbformat": 4,
 "nbformat_minor": 2
}
